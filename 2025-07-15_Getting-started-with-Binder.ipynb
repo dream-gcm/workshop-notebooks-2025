{
 "cells": [
  {
   "cell_type": "markdown",
   "id": "7f22d287-9a4c-4fac-b520-67a781764634",
   "metadata": {},
   "source": [
    "# Tutorial  to install a ready-to-use environment to run the DREAM model ONLINE via BINDER\n",
    "\n",
    "\n",
    "**Purpose:** \n",
    "__This tutorial provides  instructions to install a ready-to-use environment to run the DREAM model__. This environment (including fortran compiler, netcdf libraries, python  and all what you need) is provided throught a Docker container that you will run online via Binder. Note that the Docke/Binder image is in open acces but  does not contain the model code itself, that we will  download from the DREAM github (_authorized members only_ - if you're not yet part of the group, please contact us). \n",
    "\n",
    "Also note that running the model ON-LINE via BINDER makes it more tricky to save your own results than if running in the a Docker container on your local laptop. More useful to use for a quick demo to someone or if you don't need to save outputs.\n",
    "\n",
    " \n",
    "**Prerequisites:** \n",
    "  * You'll need to know your github identifiers\n",
    "  * You'll need  to be a member of the dream-gcm github organization (if not a member aleady, send us your github login so that we can  add you in the group)\n",
    "\n",
    "**Instructions to launch via Binder:** \n",
    "* In a web browser go to:\n",
    "[https://mybinder.org/v2/gh/dream-gcm/workshop-notebooks-2025/main?urlpath=lab](https://mybinder.org/v2/gh/dream-gcm/workshop-notebooks-2025/main?urlpath=lab)\n",
    "(Might take several minutes to open. In the end you’ll land on a Jupyter lab session as with the local Docker container)\n",
    "\n",
    "--> That's it! \n",
    "\n",
    "**Instructions to run the model:**\n",
    "* In the jupyterlab via Binder, open a terminal.\n",
    "* Then in the terminal do:\n",
    "```\n",
    "    # clone the model code\n",
    "    git clone https://github.com/dream-gcm/DREAM.git\n",
    "    cd DREAM\n",
    "    git checkout dev-in-Docker\n",
    "\n",
    "    # recompile libraries\n",
    "\tcd dream_model/source/lib\n",
    "\t./makelib_docker.csh\n",
    "\n",
    "    # Run the model\n",
    "\tcd ../../jobs\n",
    "\t./runmodel_v8.4_EX2.sh\n",
    "\n",
    "    # run the diagnostics \n",
    "\tcd ../diagnostics\n",
    "\t./run_output.sh EX2 \n",
    "```\n",
    "* Then double click on the EX2 notebook and run it.\n",
    "\n",
    "* You can \n"
   ]
  },
  {
   "cell_type": "code",
   "execution_count": null,
   "id": "25602623-08b2-4cf2-baab-3d8c872991b2",
   "metadata": {},
   "outputs": [],
   "source": []
  }
 ],
 "metadata": {
  "kernelspec": {
   "display_name": "Python 3 (ipykernel)",
   "language": "python",
   "name": "python3"
  },
  "language_info": {
   "codemirror_mode": {
    "name": "ipython",
    "version": 3
   },
   "file_extension": ".py",
   "mimetype": "text/x-python",
   "name": "python",
   "nbconvert_exporter": "python",
   "pygments_lexer": "ipython3",
   "version": "3.11.10"
  }
 },
 "nbformat": 4,
 "nbformat_minor": 5
}
