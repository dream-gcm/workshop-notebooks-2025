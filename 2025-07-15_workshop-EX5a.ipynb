{
 "cells": [
  {
   "cell_type": "markdown",
   "id": "5bc777b6-c998-4fc7-9031-60cc216fb5fc",
   "metadata": {},
   "source": [
    "# Example 5a (EX5a)\n",
    "\n",
    "__Summary:__  Next level. We are now using the simple GCM forcing. This forcing is designed to mimic the effects of parameterisations in a real GCM. It will not hold any basic state in place. So whatever initial condition you use, the model will develop in time, even without any heating perturbation. Have a look at how the model develops when initialised with the 3-d climatology we used before, and with no perturbation. "
   ]
  },
  {
   "cell_type": "markdown",
   "id": "4822031b-f252-43ed-a7c9-6fb4f76a7bdf",
   "metadata": {},
   "source": [
    "### How to run the model and produce netcdf outputs:\n",
    "\n",
    "* Go to the terminal window.\n",
    "* Go to the jobs directory: `cd  ~/work/DREAM/dream_model/jobs`\n",
    "* Run the model script: `./runmodel_v8.4_EX5a.sh` (note that in the script we have `LFAN=.F.`meaning no heating anomaly applied).\n",
    "\n",
    "* Then in the terminal go to the diagnostics directory: `cd ~/work/DREAM/dream_model/diagnostics/`,\n",
    "* Run the diagnostics script: `./run_output.sh EX5a`.\n",
    "* The model outputs and diagnostics will be saved in `DREAM/dream_results/EX5a/netcdfs/`"
   ]
  },
  {
   "cell_type": "markdown",
   "id": "0eef6f59-9858-4153-9c64-7af3b9ddf94f",
   "metadata": {},
   "source": [
    "### Open and plot results with Python\n",
    "\n",
    "#### Import Python Packages\n"
   ]
  },
  {
   "cell_type": "code",
   "execution_count": 2,
   "id": "716401c6-0528-4e83-90ee-c955345a6740",
   "metadata": {},
   "outputs": [],
   "source": [
    "## standart libraries\n",
    "import os,sys\n",
    "import numpy as np\n",
    "\n",
    "# xarray\n",
    "import xarray as xr\n",
    "    \n",
    "# plot\n",
    "import cartopy.crs as ccrs\n",
    "import cartopy.feature as ccf\n",
    "import cartopy.util as ccu\n",
    "import matplotlib.pyplot as plt\n",
    "from matplotlib.colors import Colormap\n",
    "import matplotlib.colors as mcolors\n",
    "import matplotlib.dates as mdates\n",
    "import matplotlib.cm as cm\n",
    "import matplotlib.dates as mdates\n",
    "import matplotlib.ticker as mticker\n",
    "import matplotlib.animation as animation\n",
    "\n",
    "import ipywidgets as widgets\n",
    "from IPython.display import display, HTML, Image, clear_output\n",
    "\n",
    "\n",
    "\n",
    "# My custom module with plot tools\n",
    "import utils_SLX_plots_dream as slx\n",
    "\n",
    "\n",
    "# Only if using jupyter notebook. Otherwise, comment out.\n",
    "%matplotlib inline "
   ]
  },
  {
   "cell_type": "markdown",
   "id": "fa490650-44fa-492b-8879-000b1ecc9632",
   "metadata": {},
   "source": [
    "---\n",
    "# Read DREAM model outputs:"
   ]
  },
  {
   "cell_type": "markdown",
   "id": "1c9b9a27-f9e9-4f4b-abfc-9cefa4e71ad8",
   "metadata": {},
   "source": [
    "* Set parameters:"
   ]
  },
  {
   "cell_type": "code",
   "execution_count": 3,
   "id": "d6cb49e5-a43f-44e5-8279-17d7ee45bafe",
   "metadata": {},
   "outputs": [],
   "source": [
    "EXPID=\"EX5a\"\n",
    "\n",
    "# local directory of input files (in the DOcker container)\n",
    "diri = \"/home/jovyan/work/DREAM/dream_results/\"+EXPID+\"/netcdfs/\"\n",
    "\n",
    "# input file\n",
    "fili = \"dreamT31L15_gph_250.nc\"\n",
    "fili2 = \"dreamT31L15_gph_500.nc\"\n",
    "fili3 = \"dreamT31L15_u_850.nc\"\n",
    "\n",
    "\n",
    "# where to save output plots and movies\n",
    "diro = \"/home/jovyan/work/DREAM/dream_results/\"+EXPID+\"/plots/\""
   ]
  },
  {
   "cell_type": "markdown",
   "id": "0e7cb7fd-01d0-421d-be0d-296f9a7d785c",
   "metadata": {},
   "source": [
    "* Read data (with the python package xarray):"
   ]
  },
  {
   "cell_type": "code",
   "execution_count": 4,
   "id": "7a2f3bb7-8a2b-407f-9e05-a408f1ec0cae",
   "metadata": {},
   "outputs": [
    {
     "data": {
      "text/plain": [
       "121"
      ]
     },
     "execution_count": 4,
     "metadata": {},
     "output_type": "execute_result"
    }
   ],
   "source": [
    "zanom = xr.open_dataset(diri+fili,decode_times=True)['gph'].squeeze()\n",
    "\n",
    "zanom2 = xr.open_dataset(diri+fili2,decode_times=True)['gph'].squeeze()\n",
    "\n",
    "uanom = xr.open_dataset(diri+fili3,decode_times=True)['u'].squeeze()\n",
    "\n",
    "\n",
    "# number of time frames in this experiment\n",
    "NTF=zanom.time.size\n",
    "NTF"
   ]
  },
  {
   "cell_type": "markdown",
   "id": "1a2059fb-259c-4c80-8dfb-255dfafd12c0",
   "metadata": {},
   "source": [
    "---\n",
    "# Display basic infos"
   ]
  },
  {
   "cell_type": "code",
   "execution_count": 5,
   "id": "92d325b3-f211-4035-b3ec-cd719dac5608",
   "metadata": {},
   "outputs": [
    {
     "name": "stdout",
     "output_type": "stream",
     "text": [
      "<xarray.DataArray 'gph' (time: 121, lat: 48, lon: 96)> Size: 4MB\n",
      "[557568 values with dtype=float64]\n",
      "Coordinates:\n",
      "  * lat      (lat) float64 384B -87.16 -83.48 -79.78 ... 79.78 83.48 87.16\n",
      "  * lon      (lon) float64 768B 0.0 3.75 7.5 11.25 ... 345.0 348.8 352.5 356.2\n",
      "    lev      float64 8B 0.25\n",
      "  * time     (time) datetime64[ns] 968B 1900-01-01 ... 1900-01-31\n",
      "Attributes:\n",
      "    units:          m\n",
      "    long_name:      geopotential height on sigma levels\n",
      "    standard_name:  geopotential height\n"
     ]
    }
   ],
   "source": [
    "# print info on the array\n",
    "print(zanom)"
   ]
  },
  {
   "cell_type": "markdown",
   "id": "fa437615-dae9-4bed-ab47-03f359a46a6e",
   "metadata": {},
   "source": [
    "* Print max, min, mean values of all array"
   ]
  },
  {
   "cell_type": "code",
   "execution_count": 5,
   "id": "27cc214d-fc49-4a6f-a3a4-e6bcfe9c6283",
   "metadata": {},
   "outputs": [
    {
     "name": "stdout",
     "output_type": "stream",
     "text": [
      "566.122650223574\n",
      "-11.333462007779165\n",
      "-443.0935902982571\n"
     ]
    }
   ],
   "source": [
    "print(zanom.max().values)\n",
    "print(zanom.mean().values)\n",
    "print(zanom.min().values)"
   ]
  },
  {
   "cell_type": "markdown",
   "id": "54cd762c-2da3-46b2-8181-e8c2ebc6cb1d",
   "metadata": {},
   "source": [
    "#### Maps for all timeframe"
   ]
  },
  {
   "cell_type": "code",
   "execution_count": 6,
   "id": "72e3edee-f2fc-462d-9ce9-2859ec30cbdf",
   "metadata": {},
   "outputs": [],
   "source": [
    "#------------ geography\n",
    "# Global plot? True/False\n",
    "glo= True\n",
    "\n",
    "# center longitude on:\n",
    "loncentr=180.\n",
    "\n",
    "# set coastL to True if you want coaslines\n",
    "coastL=False\n",
    "\n",
    "#------------ color shading\n",
    "\n",
    "# type of plot (can be 'contourf', 'pcolormesh', defaut is contourf)\n",
    "\n",
    "typlo='contourf'\n",
    "\n",
    "# min max values on the colorscale\n",
    "vmin=-500\n",
    "vmax=500\n",
    "\n",
    "# colormap\n",
    "cm_base=slx.make_NCLcolormap()\n",
    "\n",
    "# number of color segments of the colormap\n",
    "Nincr=20\n",
    "\n",
    "# color of the values smaller than vmin\n",
    "su='#EFF5FB'\n",
    "# color of the values larger than vmax\n",
    "so='#F8E0E0'\n",
    "\n",
    "# colorbar label \n",
    "labelplt= \"250 hPa Geopot. height (\"+zanom.units+\")\"\n",
    "\n",
    "# number of labels on the colorbar\n",
    "Nbar=3\n",
    "\n",
    "#------------ plot output\n",
    "# plot format\n",
    "pltty = \".png\"\n",
    "\n",
    "\n",
    "# plot resolution (dpi)\n",
    "dpifig=200\n",
    "\n",
    "# base name for output plot file\n",
    "plti=\"Z250_\"+EXPID\n"
   ]
  },
  {
   "cell_type": "markdown",
   "id": "4f2d5768-1a1c-4376-b0a3-ad3ec4268c10",
   "metadata": {},
   "source": [
    "#### Plot and save single png maps for each timeframe"
   ]
  },
  {
   "cell_type": "code",
   "execution_count": null,
   "id": "8947c4d3-7939-4f09-b0d2-c86e81433b30",
   "metadata": {},
   "outputs": [
    {
     "name": "stdout",
     "output_type": "stream",
     "text": [
      "Saved to ... /home/jovyan/work/DREAM/dream_results/EX5a/plots//Z250_EX5a.0000.png\n"
     ]
    },
    {
     "data": {
      "image/png": "[encoded data removed]",
      "text/plain": [
       "<Figure size 1200x900 with 2 Axes>"
      ]
     },
     "metadata": {},
     "output_type": "display_data"
    },
    {
     "name": "stdout",
     "output_type": "stream",
     "text": [
      "Saved to ... /home/jovyan/work/DREAM/dream_results/EX5a/plots//Z250_EX5a.0001.png\n",
      "Saved to ... /home/jovyan/work/DREAM/dream_results/EX5a/plots//Z250_EX5a.0002.png\n",
      "Saved to ... /home/jovyan/work/DREAM/dream_results/EX5a/plots//Z250_EX5a.0003.png\n",
      "Saved to ... /home/jovyan/work/DREAM/dream_results/EX5a/plots//Z250_EX5a.0004.png\n",
      "Saved to ... /home/jovyan/work/DREAM/dream_results/EX5a/plots//Z250_EX5a.0005.png\n",
      "Saved to ... /home/jovyan/work/DREAM/dream_results/EX5a/plots//Z250_EX5a.0006.png\n",
      "Saved to ... /home/jovyan/work/DREAM/dream_results/EX5a/plots//Z250_EX5a.0007.png\n",
      "Saved to ... /home/jovyan/work/DREAM/dream_results/EX5a/plots//Z250_EX5a.0008.png\n",
      "Saved to ... /home/jovyan/work/DREAM/dream_results/EX5a/plots//Z250_EX5a.0009.png\n",
      "Saved to ... /home/jovyan/work/DREAM/dream_results/EX5a/plots//Z250_EX5a.0010.png\n",
      "Saved to ... /home/jovyan/work/DREAM/dream_results/EX5a/plots//Z250_EX5a.0011.png\n",
      "Saved to ... /home/jovyan/work/DREAM/dream_results/EX5a/plots//Z250_EX5a.0012.png\n",
      "Saved to ... /home/jovyan/work/DREAM/dream_results/EX5a/plots//Z250_EX5a.0013.png\n",
      "Saved to ... /home/jovyan/work/DREAM/dream_results/EX5a/plots//Z250_EX5a.0014.png\n",
      "Saved to ... /home/jovyan/work/DREAM/dream_results/EX5a/plots//Z250_EX5a.0015.png\n",
      "Saved to ... /home/jovyan/work/DREAM/dream_results/EX5a/plots//Z250_EX5a.0016.png\n",
      "Saved to ... /home/jovyan/work/DREAM/dream_results/EX5a/plots//Z250_EX5a.0017.png\n",
      "Saved to ... /home/jovyan/work/DREAM/dream_results/EX5a/plots//Z250_EX5a.0018.png\n",
      "Saved to ... /home/jovyan/work/DREAM/dream_results/EX5a/plots//Z250_EX5a.0019.png\n",
      "Saved to ... /home/jovyan/work/DREAM/dream_results/EX5a/plots//Z250_EX5a.0020.png\n",
      "Saved to ... /home/jovyan/work/DREAM/dream_results/EX5a/plots//Z250_EX5a.0021.png\n",
      "Saved to ... /home/jovyan/work/DREAM/dream_results/EX5a/plots//Z250_EX5a.0022.png\n",
      "Saved to ... /home/jovyan/work/DREAM/dream_results/EX5a/plots//Z250_EX5a.0023.png\n",
      "Saved to ... /home/jovyan/work/DREAM/dream_results/EX5a/plots//Z250_EX5a.0024.png\n",
      "Saved to ... /home/jovyan/work/DREAM/dream_results/EX5a/plots//Z250_EX5a.0025.png\n",
      "Saved to ... /home/jovyan/work/DREAM/dream_results/EX5a/plots//Z250_EX5a.0026.png\n",
      "Saved to ... /home/jovyan/work/DREAM/dream_results/EX5a/plots//Z250_EX5a.0027.png\n",
      "Saved to ... /home/jovyan/work/DREAM/dream_results/EX5a/plots//Z250_EX5a.0028.png\n",
      "Saved to ... /home/jovyan/work/DREAM/dream_results/EX5a/plots//Z250_EX5a.0029.png\n",
      "Saved to ... /home/jovyan/work/DREAM/dream_results/EX5a/plots//Z250_EX5a.0030.png\n",
      "Saved to ... /home/jovyan/work/DREAM/dream_results/EX5a/plots//Z250_EX5a.0031.png\n",
      "Saved to ... /home/jovyan/work/DREAM/dream_results/EX5a/plots//Z250_EX5a.0032.png\n",
      "Saved to ... /home/jovyan/work/DREAM/dream_results/EX5a/plots//Z250_EX5a.0033.png\n",
      "Saved to ... /home/jovyan/work/DREAM/dream_results/EX5a/plots//Z250_EX5a.0034.png\n",
      "Saved to ... /home/jovyan/work/DREAM/dream_results/EX5a/plots//Z250_EX5a.0035.png\n",
      "Saved to ... /home/jovyan/work/DREAM/dream_results/EX5a/plots//Z250_EX5a.0036.png\n",
      "Saved to ... /home/jovyan/work/DREAM/dream_results/EX5a/plots//Z250_EX5a.0037.png\n",
      "Saved to ... /home/jovyan/work/DREAM/dream_results/EX5a/plots//Z250_EX5a.0038.png\n",
      "Saved to ... /home/jovyan/work/DREAM/dream_results/EX5a/plots//Z250_EX5a.0039.png\n",
      "Saved to ... /home/jovyan/work/DREAM/dream_results/EX5a/plots//Z250_EX5a.0040.png\n",
      "Saved to ... /home/jovyan/work/DREAM/dream_results/EX5a/plots//Z250_EX5a.0041.png\n",
      "Saved to ... /home/jovyan/work/DREAM/dream_results/EX5a/plots//Z250_EX5a.0042.png\n",
      "Saved to ... /home/jovyan/work/DREAM/dream_results/EX5a/plots//Z250_EX5a.0043.png\n",
      "Saved to ... /home/jovyan/work/DREAM/dream_results/EX5a/plots//Z250_EX5a.0044.png\n",
      "Saved to ... /home/jovyan/work/DREAM/dream_results/EX5a/plots//Z250_EX5a.0045.png\n",
      "Saved to ... /home/jovyan/work/DREAM/dream_results/EX5a/plots//Z250_EX5a.0046.png\n",
      "Saved to ... /home/jovyan/work/DREAM/dream_results/EX5a/plots//Z250_EX5a.0047.png\n",
      "Saved to ... /home/jovyan/work/DREAM/dream_results/EX5a/plots//Z250_EX5a.0048.png\n",
      "Saved to ... /home/jovyan/work/DREAM/dream_results/EX5a/plots//Z250_EX5a.0049.png\n",
      "Saved to ... /home/jovyan/work/DREAM/dream_results/EX5a/plots//Z250_EX5a.0050.png\n",
      "Saved to ... /home/jovyan/work/DREAM/dream_results/EX5a/plots//Z250_EX5a.0051.png\n",
      "Saved to ... /home/jovyan/work/DREAM/dream_results/EX5a/plots//Z250_EX5a.0052.png\n",
      "Saved to ... /home/jovyan/work/DREAM/dream_results/EX5a/plots//Z250_EX5a.0053.png\n",
      "Saved to ... /home/jovyan/work/DREAM/dream_results/EX5a/plots//Z250_EX5a.0054.png\n",
      "Saved to ... /home/jovyan/work/DREAM/dream_results/EX5a/plots//Z250_EX5a.0055.png\n",
      "Saved to ... /home/jovyan/work/DREAM/dream_results/EX5a/plots//Z250_EX5a.0056.png\n",
      "Saved to ... /home/jovyan/work/DREAM/dream_results/EX5a/plots//Z250_EX5a.0057.png\n",
      "Saved to ... /home/jovyan/work/DREAM/dream_results/EX5a/plots//Z250_EX5a.0058.png\n",
      "Saved to ... /home/jovyan/work/DREAM/dream_results/EX5a/plots//Z250_EX5a.0059.png\n",
      "Saved to ... /home/jovyan/work/DREAM/dream_results/EX5a/plots//Z250_EX5a.0060.png\n",
      "Saved to ... /home/jovyan/work/DREAM/dream_results/EX5a/plots//Z250_EX5a.0061.png\n",
      "Saved to ... /home/jovyan/work/DREAM/dream_results/EX5a/plots//Z250_EX5a.0062.png\n",
      "Saved to ... /home/jovyan/work/DREAM/dream_results/EX5a/plots//Z250_EX5a.0063.png\n",
      "Saved to ... /home/jovyan/work/DREAM/dream_results/EX5a/plots//Z250_EX5a.0064.png\n",
      "Saved to ... /home/jovyan/work/DREAM/dream_results/EX5a/plots//Z250_EX5a.0065.png\n",
      "Saved to ... /home/jovyan/work/DREAM/dream_results/EX5a/plots//Z250_EX5a.0066.png\n",
      "Saved to ... /home/jovyan/work/DREAM/dream_results/EX5a/plots//Z250_EX5a.0067.png\n",
      "Saved to ... /home/jovyan/work/DREAM/dream_results/EX5a/plots//Z250_EX5a.0068.png\n",
      "Saved to ... /home/jovyan/work/DREAM/dream_results/EX5a/plots//Z250_EX5a.0069.png\n",
      "Saved to ... /home/jovyan/work/DREAM/dream_results/EX5a/plots//Z250_EX5a.0070.png\n",
      "Saved to ... /home/jovyan/work/DREAM/dream_results/EX5a/plots//Z250_EX5a.0071.png\n",
      "Saved to ... /home/jovyan/work/DREAM/dream_results/EX5a/plots//Z250_EX5a.0072.png\n",
      "Saved to ... /home/jovyan/work/DREAM/dream_results/EX5a/plots//Z250_EX5a.0073.png\n",
      "Saved to ... /home/jovyan/work/DREAM/dream_results/EX5a/plots//Z250_EX5a.0074.png\n",
      "Saved to ... /home/jovyan/work/DREAM/dream_results/EX5a/plots//Z250_EX5a.0075.png\n",
      "Saved to ... /home/jovyan/work/DREAM/dream_results/EX5a/plots//Z250_EX5a.0076.png\n",
      "Saved to ... /home/jovyan/work/DREAM/dream_results/EX5a/plots//Z250_EX5a.0077.png\n",
      "Saved to ... /home/jovyan/work/DREAM/dream_results/EX5a/plots//Z250_EX5a.0078.png\n",
      "Saved to ... /home/jovyan/work/DREAM/dream_results/EX5a/plots//Z250_EX5a.0079.png\n",
      "Saved to ... /home/jovyan/work/DREAM/dream_results/EX5a/plots//Z250_EX5a.0080.png\n",
      "Saved to ... /home/jovyan/work/DREAM/dream_results/EX5a/plots//Z250_EX5a.0081.png\n",
      "Saved to ... /home/jovyan/work/DREAM/dream_results/EX5a/plots//Z250_EX5a.0082.png\n",
      "Saved to ... /home/jovyan/work/DREAM/dream_results/EX5a/plots//Z250_EX5a.0083.png\n",
      "Saved to ... /home/jovyan/work/DREAM/dream_results/EX5a/plots//Z250_EX5a.0084.png\n",
      "Saved to ... /home/jovyan/work/DREAM/dream_results/EX5a/plots//Z250_EX5a.0085.png\n",
      "Saved to ... /home/jovyan/work/DREAM/dream_results/EX5a/plots//Z250_EX5a.0086.png\n",
      "Saved to ... /home/jovyan/work/DREAM/dream_results/EX5a/plots//Z250_EX5a.0087.png\n",
      "Saved to ... /home/jovyan/work/DREAM/dream_results/EX5a/plots//Z250_EX5a.0088.png\n",
      "Saved to ... /home/jovyan/work/DREAM/dream_results/EX5a/plots//Z250_EX5a.0089.png\n",
      "Saved to ... /home/jovyan/work/DREAM/dream_results/EX5a/plots//Z250_EX5a.0090.png\n",
      "Saved to ... /home/jovyan/work/DREAM/dream_results/EX5a/plots//Z250_EX5a.0091.png\n",
      "Saved to ... /home/jovyan/work/DREAM/dream_results/EX5a/plots//Z250_EX5a.0092.png\n",
      "Saved to ... /home/jovyan/work/DREAM/dream_results/EX5a/plots//Z250_EX5a.0093.png\n",
      "Saved to ... /home/jovyan/work/DREAM/dream_results/EX5a/plots//Z250_EX5a.0094.png\n",
      "Saved to ... /home/jovyan/work/DREAM/dream_results/EX5a/plots//Z250_EX5a.0095.png\n",
      "Saved to ... /home/jovyan/work/DREAM/dream_results/EX5a/plots//Z250_EX5a.0096.png\n"
     ]
    }
   ],
   "source": [
    "# loop on all time steps in the data array:\n",
    "for it in range(0,NTF,1):\n",
    "     \n",
    "        # this is to plor only once a day (when hour==00)\n",
    "        #if (time.hour[it]==0):\n",
    "                \n",
    "            # output plot file name including the time index\n",
    "            plto = plti+\".\"+str(it).zfill(4)\n",
    "    \n",
    "\n",
    "            # data to plot (must be a 2-d np.array)\n",
    "            # here we select one timestep at a time for plotting purposes\n",
    "            data2plot  = zanom.isel(time=it).values\n",
    "\n",
    "            # make the data to plot cyclic so that the values at longitude 0 are repeated at 360. (for plot purposes)\n",
    "            cyclic_data, cyclic_lons = ccu.add_cyclic_point(data2plot, coord=zanom.lon.values)\n",
    "\n",
    "            #----------------------------------------------------\n",
    "            #------ PLOT ----------------------------------------\n",
    "            #----------------------------------------------------\n",
    "\n",
    "            # create fig\n",
    "            fig1 = plt.figure(figsize=([12,9]),facecolor='white')\n",
    "\n",
    "            # plot data (base plot from plotmap functionn defined above)\n",
    "            \n",
    "            cs = slx.plotmap(fig1,cyclic_data,cyclic_lons,zanom.lat.values,plto,cm_base=cm_base,vmin=vmin,vmax=vmax,Nincr=Nincr,glo=glo,coastL=coastL,su=su,so=so,loncentr=loncentr,typlo=typlo,Nbar=Nbar,labelplt=labelplt)\n",
    "\n",
    "            # add title on plot (date)\n",
    "            #plt.title(slx.printdatestring(airanom.time.to_index(),it))\n",
    "            # Compute days since t0\n",
    "            t0 = zanom.time[0].values\n",
    "            current_time = zanom.time[it].values\n",
    "            delta_days = (np.datetime64(current_time) - np.datetime64(t0)) / np.timedelta64(1, 'D')\n",
    "            title_text = fig1.text(0.5, 0.8, f\"t₀ + {delta_days:.2f} days\", ha='center', fontsize=16)\n",
    "\n",
    "            if it==1:\n",
    "                # display plot only once in the loop\n",
    "                plt.show()\n",
    "    \n",
    "            # Save fig in png, resolution dpi\n",
    "            fig1.savefig(diro+\"/\"+plto+'.png', facecolor=fig1.get_facecolor(), edgecolor='none', dpi=dpifig,bbox_inches='tight', pad_inches=0)\n",
    "            print(\"Saved to ... \"+diro+\"/\"+plto+'.png')\n",
    "            # close fig\n",
    "            plt.close(fig1)    \n",
    "\n",
    "#print(\"INITAL STATE:\")\n",
    "#display(Image(os.path.join(diro+\"Z100_EX1b.101.png\")))\n",
    "#print('NOTE: All intermediate frames have been saved to '+diro)"
   ]
  },
  {
   "cell_type": "markdown",
   "id": "34531ddb-9259-41ac-a7c6-7870803490cd",
   "metadata": {},
   "source": [
    "#### Display any of the time frames"
   ]
  },
  {
   "cell_type": "code",
   "execution_count": 8,
   "id": "80c4e7d9-eaf1-4f05-bb83-d348f86cef98",
   "metadata": {},
   "outputs": [
    {
     "data": {
      "application/vnd.jupyter.widget-view+json": {
       "model_id": "ff9f262ad73146e1ac123b6c7826cb51",
       "version_major": 2,
       "version_minor": 0
      },
      "text/plain": [
       "interactive(children=(IntSlider(value=0, continuous_update=False, description='Time slider:', max=120), Output…"
      ]
     },
     "metadata": {},
     "output_type": "display_data"
    },
    {
     "data": {
      "application/vnd.jupyter.widget-view+json": {
       "model_id": "49c55c8557774d37b963de4a7e253b42",
       "version_major": 2,
       "version_minor": 0
      },
      "text/plain": [
       "Output()"
      ]
     },
     "metadata": {},
     "output_type": "display_data"
    }
   ],
   "source": [
    "# view figures\n",
    "slider_expe = widgets.IntSlider(\n",
    "    value=0,\n",
    "    min=0,\n",
    "    max=NTF-1,\n",
    "    step=1,\n",
    "    description='Time slider:',\n",
    "    continuous_update=False\n",
    ")\n",
    "output_expe = widgets.Output()\n",
    "\n",
    "def update_plot(it):\n",
    "    with output_expe:\n",
    "        clear_output(wait=True)\n",
    "        tim = str(it).zfill(4)\n",
    "        display(Image(filename=os.path.join(diro+\"Z250_\"+EXPID+\".\"+tim+\".png\")))\n",
    "\n",
    "widgets.interact(update_plot, it=slider_expe)\n",
    "display(output_expe)"
   ]
  },
  {
   "cell_type": "code",
   "execution_count": 52,
   "id": "4445dbed-b922-41ab-867c-451a24e23383",
   "metadata": {},
   "outputs": [],
   "source": []
  },
  {
   "cell_type": "code",
   "execution_count": null,
   "id": "b894a9cc-5689-4fb8-b05b-5dd051358370",
   "metadata": {},
   "outputs": [],
   "source": []
  }
 ],
 "metadata": {
  "kernelspec": {
   "display_name": "Python 3 (ipykernel)",
   "language": "python",
   "name": "python3"
  },
  "language_info": {
   "codemirror_mode": {
    "name": "ipython",
    "version": 3
   },
   "file_extension": ".py",
   "mimetype": "text/x-python",
   "name": "python",
   "nbconvert_exporter": "python",
   "pygments_lexer": "ipython3",
   "version": "3.11.10"
  }
 },
 "nbformat": 4,
 "nbformat_minor": 5
}
