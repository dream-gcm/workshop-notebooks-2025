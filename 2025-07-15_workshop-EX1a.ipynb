{
 "cells": [
  {
   "cell_type": "markdown",
   "id": "5bc777b6-c998-4fc7-9031-60cc216fb5fc",
   "metadata": {},
   "source": [
    "# Example 1a (EX1a)\n",
    "\n",
    "__Summary:__ This is the “hello world” of running DREAM. The point here is just to see the code running for the first time:  we initialise with a state of rest and add no forcing. When running the model, some output is printed  in the terminal  every 16 time steps (6 hours) in the form of the 100th spectral coefficient of vorticity, a complex variable. The choice of z(100) is arbitrary. Since in this case the initial condition is at rest, the value of z(100) will be very small. Following its value is just a quick check as to how the model is behaving. \n",
    "\n",
    "---"
   ]
  },
  {
   "cell_type": "markdown",
   "id": "de1cacab-1b5d-4173-9b14-30dcb97bb438",
   "metadata": {},
   "source": [
    "### How to open and browse the model run script:\n",
    "\n",
    "* In the left menu, browse to the `~/work/DREAM/dream_model/jobs`directory where you'll find all the scripts to run the model.\n",
    "* Double-click on the script for EXAMPLE #1a: `runmodel_v8.4_EX1a.sh` to open it in an editor windows and have a look.\n"
   ]
  },
  {
   "cell_type": "markdown",
   "id": "1987ca67-6c98-41e2-ba3b-dc6fb769c806",
   "metadata": {},
   "source": [
    "### How to run the model:\n",
    "\n",
    "* Open a terminal window from the browser (click on File > New > Terminal)\n",
    "* Go to the jobs directory: `cd  ~/work/DREAM/dream_model/jobs`\n",
    "* Run the model script for EX1: `./runmodel_v8.4_EX1a.sh`\n",
    "\n"
   ]
  },
  {
   "cell_type": "markdown",
   "id": "228150dd-0e58-4dfe-9be1-bfa6915704e1",
   "metadata": {},
   "source": [
    "\n",
    "### What to expect?\n",
    "The output will be printed in the terminal  every 16 time steps (6 hours) in the form of the 100th spectral coefficient of vorticity, a complex variable. The choice of z(100) is arbitrary. \n",
    "\n",
    "Since in this case the initial condition is at rest, the value of z(100) will be very small. Following its value is just a quick check as to how the model is behaving. \n",
    "\n",
    "You can now go to EXAMPLE #1b."
   ]
  },
  {
   "cell_type": "code",
   "execution_count": null,
   "id": "bf2ed0a5-d3db-4fe5-b002-2c298bb934f2",
   "metadata": {},
   "outputs": [],
   "source": []
  }
 ],
 "metadata": {
  "kernelspec": {
   "display_name": "Python 3 (ipykernel)",
   "language": "python",
   "name": "python3"
  },
  "language_info": {
   "codemirror_mode": {
    "name": "ipython",
    "version": 3
   },
   "file_extension": ".py",
   "mimetype": "text/x-python",
   "name": "python",
   "nbconvert_exporter": "python",
   "pygments_lexer": "ipython3",
   "version": "3.11.10"
  }
 },
 "nbformat": 4,
 "nbformat_minor": 5
}
