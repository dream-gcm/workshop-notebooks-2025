{
 "cells": [
  {
   "cell_type": "markdown",
   "id": "12a8b741-28fd-4ab1-a10d-e3ad3f6d2837",
   "metadata": {},
   "source": [
    "# BONUS 3: Compute a new fbs forcing file\n",
    "\n",
    "__Summary__: This  tutorial explains how to compute a new fbs forcing file (i.e. to maintain a given basic state). We will take the example of the JJA_ZM.b (JJA zonal mean) basic state.\n",
    "\n",
    "\n",
    "_**How to proceed?**_\n",
    "\n",
    "(1) you need to run the model for one time step without any forcing and we will save the development of the model in this single time step. We call this run a TRAINING run. To do so, you can use the prepared script `dream_model/jobs/runmodel_v8.4_BONUS3-train.sh`. Note that in this script,  `KRUN=1`, `RUNTYPE=\"TRAIN\"`and `LFAN=F` (run for 1 timestep, Training mode, and no perturbation added).\n",
    "\n",
    "(2) Use the script `dream_model/jobs/makefrc_Docker.sh` to compute the forcing to compensate for the 1 timestep development:\n",
    "\n",
    "```\n",
    "./makefrc_Docker.sh BONUS3-train\n",
    "```\n",
    "\n",
    "It produces the forcing file and moves it to `dream_data/T31/fbs/data_fbs.b`. \n",
    "\n",
    "--> **RENAME IT** to what makes  sense. in your case. In our example, we rename it to `ERAi_ave4x_1979-2016_JJA_ZM_fbs.b` because it is the forcing to maintain the JJA_ZM basic state (ZM for zonal mean).\n",
    "\n",
    "(3) Run the model again for a few days, with this new forcing to maintain the JJA_ZM basic state, and no perturbation, just as a sanity check that your model does not develop.  You can use the prepared script `dream_model/jobs/runmodel_v8.4_BONUS3-check.sh`. Note that in this script, set  `KRUN` back to 256 (run for 4 days), and `RUNTYPE=\"PERPETUAL\"` (perpetual season mode instead of training). Run the script:\n",
    "\n",
    "```\n",
    "runmodel_v8.4_BONUS3-check.sh\n",
    "```\n",
    "\n",
    "You should see no change in the numbers Z(100) printed in the terminal indicating no model development (which is what we wanted to check!).\n",
    "\n",
    "You're good to go! Now you can edit your `runmodel_v8.4_BONUS3-check.sh` script to add a heating perturbation if you wish.\n",
    "\n"
   ]
  },
  {
   "cell_type": "code",
   "execution_count": null,
   "id": "68520f1f-0d47-48f2-9001-12e399447ef9",
   "metadata": {},
   "outputs": [],
   "source": []
  }
 ],
 "metadata": {
  "kernelspec": {
   "display_name": "Python 3 (ipykernel)",
   "language": "python",
   "name": "python3"
  },
  "language_info": {
   "codemirror_mode": {
    "name": "ipython",
    "version": 3
   },
   "file_extension": ".py",
   "mimetype": "text/x-python",
   "name": "python",
   "nbconvert_exporter": "python",
   "pygments_lexer": "ipython3",
   "version": "3.11.10"
  }
 },
 "nbformat": 4,
 "nbformat_minor": 5
}
