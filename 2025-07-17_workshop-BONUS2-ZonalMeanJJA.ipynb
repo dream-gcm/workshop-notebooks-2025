{
 "cells": [
  {
   "cell_type": "markdown",
   "id": "12a8b741-28fd-4ab1-a10d-e3ad3f6d2837",
   "metadata": {},
   "source": [
    "# BONUS 2: zonally-averaged mean state file \n",
    "\n",
    "__Summary__: This  tutorial explains how to average zonally the JJA 3-D mean state available in `dream_data/T31/ave/ERAi_ave4x_1979-2016_JJA.b`\n",
    "\n",
    "\n",
    "_**How to proceed?**_\n",
    "* Go and open `dream_model/data_process/prep_bs/computeZM.sh`\n",
    "\n",
    "* Edit to set your input 3-D file of which you want to take the ZM: `ln  -sf ../../../dream_data/T31/ave/ERAi_ave4x_1979-2016_JJA.b  fort.10`\n",
    "\n",
    "* Edit to set your corresponding output file: `mv fort.11 ../../../dream_data/T31/ave/ERAi_ave4x_1979-2016_JJA_ZM.b\n",
    "\n",
    "* run the script: `./computeZM.sh`\n",
    "\n",
    "\n",
    "**IMPORTANT NOTE**: You'll need to compute the corresponding forcing to maintain this new basic state! (see other bonus tutorial 3)"
   ]
  },
  {
   "cell_type": "code",
   "execution_count": null,
   "id": "68520f1f-0d47-48f2-9001-12e399447ef9",
   "metadata": {},
   "outputs": [],
   "source": []
  }
 ],
 "metadata": {
  "kernelspec": {
   "display_name": "Python 3 (ipykernel)",
   "language": "python",
   "name": "python3"
  },
  "language_info": {
   "codemirror_mode": {
    "name": "ipython",
    "version": 3
   },
   "file_extension": ".py",
   "mimetype": "text/x-python",
   "name": "python",
   "nbconvert_exporter": "python",
   "pygments_lexer": "ipython3",
   "version": "3.11.10"
  }
 },
 "nbformat": 4,
 "nbformat_minor": 5
}
