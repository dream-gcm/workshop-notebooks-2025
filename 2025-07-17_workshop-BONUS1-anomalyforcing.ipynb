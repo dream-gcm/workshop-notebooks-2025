{
 "cells": [
  {
   "cell_type": "markdown",
   "id": "12a8b741-28fd-4ab1-a10d-e3ad3f6d2837",
   "metadata": {},
   "source": [
    "# BONUS: Generate a new perturbation forcing file\n",
    "\n",
    "__Summary__: This  tutorial explains how to create a new heating anomaly (or other perturbation types). Beware that it remains a bit artisanal here! Read carefully the notes below, and ask us if something is unclear!\n",
    "\n",
    "_**Where to find the useful scripts?**_\n",
    "\n",
    "The useful scripts and fortran subroutines are in `/dream-model/data_process/prep_fan/`.\n",
    "\n",
    "In this directory in the left menu, double click on `makefan_Docker.sh` to open it.\n",
    "\n",
    "_**What does this script does:**_\n",
    "\n",
    "3 steps in this script:\n",
    "\n",
    "(1) The forcing anomaly is first prepared in grid space at resolution T42 (with makefan.f). Setting the anomaly remains pretty artisanal and should be edited directly in the fortran code itself. See below for further explanations (or else ask us!).\n",
    "\n",
    "(2) Then the gridspace anomaly is converted to spectral space (with specanANOMT42.f), \n",
    "\n",
    "(3) Then it is truncated to T31 if you need (with ../data_manip/truncate_T42toT31.f). This fortran routine  can  be used for different things. So here you need to make sure that nrecs is set to the number of records in your anomaly file (i.e. set to 1 if it is not evolving with time).\n",
    "\n",
    "The produced anomaly file is named temp_fanT42.b and/or temp_fanT31.b. Feel free  to rename it to be more indicative of the heating perturbation you have created.\n",
    "\n",
    "_**In practice, what do you need to do?**_\n",
    "\n",
    "* Open `/dream_model/data_process/prep_fan/makefan.f` and edit the code set your own perturbation.\n",
    "\n",
    "For example the amplitude in °C per day of the temperature perturbation is set with `AMPT=2. / 86400.`.\n",
    "\n",
    "And the position and size of the perturbation is set with\n",
    "  ```\n",
    "      RLONC=180.   #longitude of perturbation\n",
    "      RLATC=0.     #latitude of perturbation\n",
    "      RADX=40.     #extent of perturbation in longitude (semi-axis of the elipse)\n",
    "      RADY=15.     #extent of perturbation in latitude (semi-axis of the elipse)\n",
    "  ```\n",
    "\n",
    "The vertical profile is set with \n",
    "```\n",
    "      DO L=1,NL\n",
    "      TPROFILE(L)=PI * (1-SIGMA(L))*SIN(PI*(1-SIGMA(L)))\n",
    "      ENDDO\n",
    "```\n",
    "\n",
    "* Then make sure  `/dream_model/data_processdata_manip/truncate_T42toT31.f`has `nrecs=1` if your anomaly file is not evolving with time.\n",
    "\n",
    "* Then you can run the script:\n",
    "\n",
    "```\n",
    "cd /dream-model/data_process/prep_fan/\n",
    "./makefan_Docker.sh\n",
    "```\n",
    "\n",
    "* It should produce `temp_fanT31.b` and `temp_fanT42.b` that you can rename and move to `/dream/data/T31/fan/` and  `/dream/data/T42/fan/` respectively."
   ]
  },
  {
   "cell_type": "code",
   "execution_count": null,
   "id": "68520f1f-0d47-48f2-9001-12e399447ef9",
   "metadata": {},
   "outputs": [],
   "source": []
  }
 ],
 "metadata": {
  "kernelspec": {
   "display_name": "Python 3 (ipykernel)",
   "language": "python",
   "name": "python3"
  },
  "language_info": {
   "codemirror_mode": {
    "name": "ipython",
    "version": 3
   },
   "file_extension": ".py",
   "mimetype": "text/x-python",
   "name": "python",
   "nbconvert_exporter": "python",
   "pygments_lexer": "ipython3",
   "version": "3.11.10"
  }
 },
 "nbformat": 4,
 "nbformat_minor": 5
}
